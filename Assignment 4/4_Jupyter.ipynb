{
 "cells": [
  {
   "cell_type": "markdown",
   "metadata": {},
   "source": [
    "##  Multilevel inheritence"
   ]
  },
  {
   "cell_type": "markdown",
   "metadata": {},
   "source": [
    "Here Rabbit is inherited from Animals which in turn is inherited from Mammals.\n",
    "All protected members and methods of all parent classes are available to the child class"
   ]
  },
  {
   "cell_type": "code",
   "execution_count": 31,
   "metadata": {},
   "outputs": [],
   "source": [
    "class Mammals(object):\n",
    "    def __init__(self):\n",
    "        print('mammal created')\n",
    "        self._age = 10\n",
    "    \n",
    "    def living_place(self):\n",
    "        print('Mammal is living on the land')"
   ]
  },
  {
   "cell_type": "code",
   "execution_count": 32,
   "metadata": {},
   "outputs": [],
   "source": [
    "class Animals(Mammals):\n",
    "    def __init__(self):\n",
    "        super().__init__()\n",
    "        print('Animal created')\n",
    "        \n",
    "    def eat(self):\n",
    "        print('Animal eats')"
   ]
  },
  {
   "cell_type": "code",
   "execution_count": 33,
   "metadata": {},
   "outputs": [],
   "source": [
    "class Rabbit(Animals):\n",
    "    def __init__(self):\n",
    "        super().__init__()\n",
    "        print('Rabbit is created!')\n",
    "    \n",
    "    def run(self):\n",
    "        print('Rabbit runs faster')"
   ]
  },
  {
   "cell_type": "code",
   "execution_count": 34,
   "metadata": {},
   "outputs": [
    {
     "name": "stdout",
     "output_type": "stream",
     "text": [
      "mammal created\n",
      "Animal created\n",
      "Rabbit is created!\n"
     ]
    }
   ],
   "source": [
    "Ron = Rabbit()"
   ]
  },
  {
   "cell_type": "code",
   "execution_count": 35,
   "metadata": {},
   "outputs": [
    {
     "name": "stdout",
     "output_type": "stream",
     "text": [
      "Rabbit runs faster\n"
     ]
    }
   ],
   "source": [
    "Ron.run()"
   ]
  },
  {
   "cell_type": "code",
   "execution_count": 36,
   "metadata": {},
   "outputs": [
    {
     "name": "stdout",
     "output_type": "stream",
     "text": [
      "Animal eats\n"
     ]
    }
   ],
   "source": [
    "Ron.eat()"
   ]
  },
  {
   "cell_type": "code",
   "execution_count": 37,
   "metadata": {},
   "outputs": [
    {
     "name": "stdout",
     "output_type": "stream",
     "text": [
      "Mammal is living on the land\n"
     ]
    }
   ],
   "source": [
    "Ron.living_place()"
   ]
  },
  {
   "cell_type": "code",
   "execution_count": 38,
   "metadata": {},
   "outputs": [
    {
     "data": {
      "text/plain": [
       "10"
      ]
     },
     "execution_count": 38,
     "metadata": {},
     "output_type": "execute_result"
    }
   ],
   "source": [
    "Ron._age"
   ]
  },
  {
   "cell_type": "markdown",
   "metadata": {},
   "source": [
    "## Multiple inheritence"
   ]
  },
  {
   "cell_type": "markdown",
   "metadata": {},
   "source": [
    "Bat is inherits properties of both Animals and Birds. First Animals is written while inheriting hence super() and any other methods comman to both parents will be executed according to Animals"
   ]
  },
  {
   "cell_type": "code",
   "execution_count": 39,
   "metadata": {},
   "outputs": [],
   "source": [
    "class Animals(object):\n",
    "    def __init__(self,age = 10):\n",
    "        print('Animal is craeated')\n",
    "        self._age = age\n",
    "        \n",
    "    def run(self):\n",
    "        print('Animal runs')\n",
    "    \n",
    "    def sound(self):\n",
    "        print('Animal Sound')"
   ]
  },
  {
   "cell_type": "code",
   "execution_count": 40,
   "metadata": {},
   "outputs": [],
   "source": [
    "class Birds(object):\n",
    "    def __init__(self,age = 5):\n",
    "        print('Bird is created')\n",
    "        self._age = 5\n",
    "    \n",
    "    def fly(self):\n",
    "        print('Bird is flying')\n",
    "        \n",
    "    def sound(self):\n",
    "        print('Bird Sound')"
   ]
  },
  {
   "cell_type": "code",
   "execution_count": 41,
   "metadata": {},
   "outputs": [],
   "source": [
    "class Bat(Animals, Birds):\n",
    "    def __init__(self):\n",
    "        super().__init__()\n",
    "        print('Bat created')\n",
    "        \n",
    "    def sleep(self):\n",
    "        print('Bat is sleeping')"
   ]
  },
  {
   "cell_type": "code",
   "execution_count": 42,
   "metadata": {},
   "outputs": [
    {
     "name": "stdout",
     "output_type": "stream",
     "text": [
      "Animal is craeated\n",
      "Bat created\n"
     ]
    }
   ],
   "source": [
    "b = Bat()"
   ]
  },
  {
   "cell_type": "code",
   "execution_count": 43,
   "metadata": {},
   "outputs": [
    {
     "name": "stdout",
     "output_type": "stream",
     "text": [
      "Bird is flying\n"
     ]
    }
   ],
   "source": [
    "b.fly()"
   ]
  },
  {
   "cell_type": "code",
   "execution_count": 44,
   "metadata": {},
   "outputs": [
    {
     "data": {
      "text/plain": [
       "10"
      ]
     },
     "execution_count": 44,
     "metadata": {},
     "output_type": "execute_result"
    }
   ],
   "source": [
    "#age of Animal will be printed\n",
    "b._age"
   ]
  },
  {
   "cell_type": "code",
   "execution_count": 45,
   "metadata": {},
   "outputs": [
    {
     "name": "stdout",
     "output_type": "stream",
     "text": [
      "Animal Sound\n"
     ]
    }
   ],
   "source": [
    "b.sound()"
   ]
  },
  {
   "cell_type": "markdown",
   "metadata": {},
   "source": [
    "## "
   ]
  },
  {
   "cell_type": "code",
   "execution_count": 53,
   "metadata": {},
   "outputs": [],
   "source": [
    "from abc import ABC, abstractmethod\n",
    "class Fish(ABC):\n",
    "    def __init__(self,locality = 'sea',speed = '60mph'):\n",
    "        self.locality = locality\n",
    "        self.speed = speed\n",
    "    @abstractmethod   \n",
    "    def swim_backwords(self):\n",
    "        pass\n",
    "    \n",
    "    @abstractmethod\n",
    "    def eat_fish(self):\n",
    "        pass"
   ]
  },
  {
   "cell_type": "code",
   "execution_count": 54,
   "metadata": {},
   "outputs": [],
   "source": [
    "class GoldFish(Fish):\n",
    "    \n",
    "    def __init__(self):\n",
    "        self.color = 'golden'\n",
    "        super().__init__('freshwater','40mph')\n",
    "    \n",
    "    def swim_backwords(self):\n",
    "        print('YES!')"
   ]
  },
  {
   "cell_type": "markdown",
   "metadata": {},
   "source": [
    " as GoldFish extends from Abstract class Fish and does not implement all abstract methods, it will raise error"
   ]
  },
  {
   "cell_type": "code",
   "execution_count": 55,
   "metadata": {},
   "outputs": [
    {
     "ename": "TypeError",
     "evalue": "Can't instantiate abstract class GoldFish with abstract methods eat_fish",
     "output_type": "error",
     "traceback": [
      "\u001b[1;31m---------------------------------------------------------------------------\u001b[0m",
      "\u001b[1;31mTypeError\u001b[0m                                 Traceback (most recent call last)",
      "\u001b[1;32m<ipython-input-55-a99eaa34e23c>\u001b[0m in \u001b[0;36m<module>\u001b[1;34m\u001b[0m\n\u001b[1;32m----> 1\u001b[1;33m \u001b[0mgoldie\u001b[0m \u001b[1;33m=\u001b[0m \u001b[0mGoldFish\u001b[0m\u001b[1;33m(\u001b[0m\u001b[1;33m)\u001b[0m\u001b[1;33m\u001b[0m\u001b[1;33m\u001b[0m\u001b[0m\n\u001b[0m",
      "\u001b[1;31mTypeError\u001b[0m: Can't instantiate abstract class GoldFish with abstract methods eat_fish"
     ]
    }
   ],
   "source": [
    "goldie = GoldFish()"
   ]
  },
  {
   "cell_type": "markdown",
   "metadata": {},
   "source": [
    "##  Polymorphism"
   ]
  },
  {
   "cell_type": "markdown",
   "metadata": {},
   "source": [
    "Different classes can have methods and properties with same name, they can be used as per requiremnts.\n",
    "Having same name but differnt forms is called polymorphism"
   ]
  },
  {
   "cell_type": "code",
   "execution_count": 56,
   "metadata": {},
   "outputs": [],
   "source": [
    "class Elephant(object):\n",
    "    def __init__(self,name):\n",
    "        self.name = name\n",
    "        print(self.name,' Elephant is created')\n",
    "    \n",
    "    def info(self):\n",
    "        print(self.name,' is an elephant')\n",
    "        print(self.name,' eats grass')"
   ]
  },
  {
   "cell_type": "code",
   "execution_count": 57,
   "metadata": {},
   "outputs": [],
   "source": [
    "class Giraffe(object):\n",
    "    def __init__(self,name):\n",
    "        self.name = name\n",
    "        print(self.name,' Giraffe is created')\n",
    "    \n",
    "    def info(self):\n",
    "        print(self.name,' is an giraffe')\n",
    "        print(self.name,' eats grass')"
   ]
  },
  {
   "cell_type": "code",
   "execution_count": 58,
   "metadata": {},
   "outputs": [
    {
     "name": "stdout",
     "output_type": "stream",
     "text": [
      "Jumbo  Elephant is created\n"
     ]
    }
   ],
   "source": [
    "e = Elephant('Jumbo')"
   ]
  },
  {
   "cell_type": "code",
   "execution_count": 59,
   "metadata": {},
   "outputs": [
    {
     "name": "stdout",
     "output_type": "stream",
     "text": [
      "Jiggi  Giraffe is created\n"
     ]
    }
   ],
   "source": [
    "g = Giraffe('Jiggi')"
   ]
  },
  {
   "cell_type": "code",
   "execution_count": 60,
   "metadata": {},
   "outputs": [
    {
     "name": "stdout",
     "output_type": "stream",
     "text": [
      "Jumbo  is an elephant\n",
      "Jumbo  eats grass\n",
      "Jiggi  is an giraffe\n",
      "Jiggi  eats grass\n"
     ]
    }
   ],
   "source": [
    "for animal in (e,g):\n",
    "    animal.info()"
   ]
  }
 ],
 "metadata": {
  "kernelspec": {
   "display_name": "Python 3",
   "language": "python",
   "name": "python3"
  },
  "language_info": {
   "codemirror_mode": {
    "name": "ipython",
    "version": 3
   },
   "file_extension": ".py",
   "mimetype": "text/x-python",
   "name": "python",
   "nbconvert_exporter": "python",
   "pygments_lexer": "ipython3",
   "version": "3.8.2"
  }
 },
 "nbformat": 4,
 "nbformat_minor": 4
}
